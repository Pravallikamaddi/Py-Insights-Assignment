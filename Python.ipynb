{
 "cells": [
  {
   "cell_type": "code",
   "execution_count": null,
   "metadata": {},
   "outputs": [],
   "source": [
    "from google.colab import files\n",
    "uploaded = files.upload()"
   ]
  },
  {
   "cell_type": "code",
   "execution_count": null,
   "metadata": {},
   "outputs": [],
   "source": [
    "import pandas as pd\n",
    "import matplotlib.pyplot as plt\n",
    "import seaborn as sns\n",
    "\n",
    "# Load the dataset\n",
    "df = pd.read_csv(\"py_demo_client_extension_30_20250221075805.csv\")\n",
    "\n",
    "# Display basic information\n",
    "df.info()\n",
    "df.head()"
   ]
  },
  {
   "cell_type": "code",
   "execution_count": null,
   "metadata": {},
   "outputs": [],
   "source": [
    "# Convert timestamps to datetime format\n",
    "if 'eventtime' in df.columns:\n",
    "    df['eventtime'] = pd.to_datetime(df['eventtime'], errors='coerce')\n",
    "    df['hour'] = df['eventtime'].dt.hour\n",
    "    df['day_of_week'] = df['eventtime'].dt.day_name()"
   ]
  },
  {
   "cell_type": "code",
   "execution_count": null,
   "metadata": {},
   "outputs": [],
   "source": [
    "# Handle missing values\n",
    "df.dropna(inplace=True)\n",
    "\n",
    "# Remove duplicates\n",
    "df.drop_duplicates(inplace=True)"
   ]
  },
  {
   "cell_type": "code",
   "execution_count": null,
   "metadata": {},
   "outputs": [],
   "source": [
    "# Visualization 1: Top 10 Most Visited Websites\n",
    "if 'url' in df.columns:\n",
    "    top_websites = df['url'].value_counts().head(10)\n",
    "    plt.figure(figsize=(10,5))\n",
    "    sns.barplot(x=top_websites.index, y=top_websites.values, palette='coolwarm')\n",
    "    plt.xticks(rotation=45)\n",
    "    plt.title(\"Top 10 Most Visited Websites\")\n",
    "    plt.xlabel(\"Website\")\n",
    "    plt.ylabel(\"Visit Count\")\n",
    "    plt.show()"
   ]
  },
  {
   "cell_type": "code",
   "execution_count": null,
   "metadata": {},
   "outputs": [],
   "source": [
    "# Visualization 2: Browsing Activity by Hour\n",
    "if 'hour' in df.columns:\n",
    "    plt.figure(figsize=(10,5))\n",
    "    sns.lineplot(x=df['hour'].value_counts().index, y=df['hour'].value_counts().values)\n",
    "    plt.title(\"Browsing Activity by Hour\")\n",
    "    plt.xlabel(\"Hour of the Day\")\n",
    "    plt.ylabel(\"Number of Visits\")\n",
    "    plt.grid()\n",
    "    plt.show()"
   ]
  },
  {
   "cell_type": "code",
   "execution_count": null,
   "metadata": {},
   "outputs": [],
   "source": [
    "# Visualization 3: Browsing Activity by Day of the Week\n",
    "if 'day_of_week' in df.columns:\n",
    "    plt.figure(figsize=(10,5))\n",
    "    sns.countplot(x=df['day_of_week'], order=['Monday','Tuesday','Wednesday','Thursday','Friday','Saturday','Sunday'], palette='viridis')\n",
    "    plt.title(\"Browsing Activity by Day of the Week\")\n",
    "    plt.xlabel(\"Day\")\n",
    "    plt.ylabel(\"Visit Count\")\n",
    "    plt.show()"
   ]
  },
  {
   "cell_type": "code",
   "execution_count": null,
   "metadata": {},
   "outputs": [],
   "source": [
    "# Visualization 4: User Flow Analysis (Visit vs. Referring Visit)\n",
    "if 'visitId' in df.columns and 'referringVisitId' in df.columns:\n",
    "    plt.figure(figsize=(8,5))\n",
    "    sns.scatterplot(x=df['visitId'], y=df['referringVisitId'], alpha=0.5)\n",
    "    plt.title(\"User Flow Analysis: Visit vs. Referring Visit\")\n",
    "    plt.xlabel(\"visitId\")\n",
    "    plt.ylabel(\"referringVisitId\")\n",
    "    plt.show()"
   ]
  },
  {
   "cell_type": "code",
   "execution_count": null,
   "metadata": {},
   "outputs": [],
   "source": [
    "# Visualization 5: Website Transition Type Distribution\n",
    "if 'transition' in df.columns:\n",
    "    plt.figure(figsize=(10,5))\n",
    "    df['transition'].value_counts().plot(kind='pie', autopct='%1.1f%%', cmap='Set2')\n",
    "    plt.title(\"Website Transition Type Distribution\")\n",
    "    plt.ylabel(\"\")\n",
    "    plt.show()"
   ]
  }
 ],
 "metadata": {
  "kernelspec": {
   "display_name": "Python 3",
   "language": "python",
   "name": "python3"
  },
  "language_info": {
   "codemirror_mode": {
    "name": "ipython",
    "version": 3
   },
   "file_extension": ".py",
   "mimetype": "text/x-python",
   "name": "python",
   "nbconvert_exporter": "python",
   "pygments_lexer": "ipython3",
   "version": "3.8.10"
  }
 },
 "nbformat": 4,
 "nbformat_minor": 4
}
